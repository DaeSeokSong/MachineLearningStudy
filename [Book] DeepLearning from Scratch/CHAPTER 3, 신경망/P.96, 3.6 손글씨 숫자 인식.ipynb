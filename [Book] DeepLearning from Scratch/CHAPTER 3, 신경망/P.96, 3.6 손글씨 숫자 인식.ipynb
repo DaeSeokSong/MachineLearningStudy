{
 "cells": [
  {
   "cell_type": "code",
   "execution_count": 7,
   "metadata": {},
   "outputs": [
    {
     "name": "stderr",
     "output_type": "stream",
     "text": [
      "D:\\Anaconda\\lib\\site-packages\\ipykernel_launcher.py:11: RuntimeWarning: overflow encountered in exp\n",
      "  # This is added back by InteractiveShellApp.init_path()\n"
     ]
    },
    {
     "name": "stdout",
     "output_type": "stream",
     "text": [
      "정확도 : 0.9207\n"
     ]
    },
    {
     "data": {
      "text/plain": [
       "'\\n3.6.1 mnist 데이터셋 내용\\n\\nimg = x_train[0]\\nlabel = t_train[0]\\nprint(label)  # 5\\n\\nprint(img.shape)  # (784,)\\nimg = img.reshape(28, 28)  # 형상을 원래 이미지의 크기로 변형 (= 원하는 형상을 인수로 지정하면 넘파이 배열의 형상을 바꿀 수 있다.)\\nprint(img.shape)  # (28, 28)\\n\\nimg_show(img) # 이미지 출력\\n'"
      ]
     },
     "execution_count": 7,
     "metadata": {},
     "output_type": "execute_result"
    }
   ],
   "source": [
    "# coding: utf-8\n",
    "import sys, os\n",
    "sys.path.append(os.pardir)  # 부모 디렉터리의 파일을 가져올 수 있도록 설정\n",
    "import pickle\n",
    "import numpy as np\n",
    "from dataset.mnist import load_mnist\n",
    "from PIL import Image\n",
    "\n",
    "# 시그모이드 함수 ( 1 / (1+exp(-x)) )\n",
    "def sigmoid(x) :\n",
    "    return 1 / (1 + np.exp(-x))\n",
    "\n",
    "# 소프트맥스 함수(입력값 각각의 정답일 확률 계산시에 활성화 함수로 사용)\n",
    "def softmax(a) :\n",
    "    c = np.max(a) # 오버플로 방지용, 소프트맥스 함수의 지수 함수를 계산할 때 어떤 정수를 더해도 결과는 안 바뀌니 입력 신호 중 최댓값을 이용\n",
    "    exp_a = np.exp(a-c)\n",
    "    sum_exp_a = np.sum(exp_a)\n",
    "    y = exp_a / sum_exp_a\n",
    "    \n",
    "    return y\n",
    "\n",
    "def img_show(img):\n",
    "    pil_img = Image.fromarray(np.uint8(img))\n",
    "    pil_img.show()\n",
    "    \n",
    "# 여기선 학습용 데이터가 아닌 검증용 데이터만 가져옴\n",
    "def get_data():\n",
    "    \"\"\"\n",
    "    normalize를 True로 하면 데이터들이\n",
    "    전처리(신경망의 입력 데이터에 특정 변환을 가하는 것) 작업으로\n",
    "    정규화(특정 범위(여기선 0.0 ~ 1.0)로 변환하는 처리)를 수행한다.\n",
    "    \n",
    "    Tip.\n",
    "    전처리를 통해 식별 능력을 개선하고 학습 속도를 높이는 등의 사례가 많이 있고\n",
    "    정규화 외에도 백색화(전체 데이터를 균일하게 분포시키는 것) 등 다양한 전처리가 있다.\n",
    "    \"\"\"\n",
    "    (x_train, t_train), (x_test, t_test) = load_mnist(flatten=True, normalize=False)\n",
    "    return x_test, t_test\n",
    "\n",
    "def init_network():\n",
    "    with open(\"sample_weight.pkl\", \"rb\") as f:\n",
    "        network = pickle.load(f)\n",
    "        \n",
    "    return network\n",
    "\n",
    "def predict(network, x):\n",
    "    W1, W2, W3 = network['W1'], network['W2'], network['W3']\n",
    "    b1, b2, b3 = network['b1'], network['b2'], network['b3']\n",
    "    \n",
    "    a1 = np.dot(x, W1)+b1\n",
    "    z1 = sigmoid(a1)\n",
    "    a2 = np.dot(z1, W2)+b2\n",
    "    z2 = sigmoid(a2)\n",
    "    a3 = np.dot(z2, W3)+b3\n",
    "    y = softmax(a3)\n",
    "    \n",
    "    return y\n",
    "\n",
    "x, t= get_data()\n",
    "network = init_network()\n",
    "\n",
    "batch_size = 100 # 배치(여러 입력 데이터를 한 묶음으로 묶은 것)\n",
    "accuracy_cnt = 0\n",
    "for i in range(0, len(x), batch_size):\n",
    "    x_batch = x[i:i+batch_size]\n",
    "    y_batch = predict(network, x_batch)\n",
    "    p = np.argmax(y_batch, axis=1) # axis=n, 첫 열부터 n 만큼 묶어서 계산(어떤 열이 가장 정답에 근접한 값들을 가지고 있나)하여 인덱스 추출\n",
    "    accuracy_cnt += np.sum(p == t[i:i+batch_size])\n",
    "    \n",
    "\"\"\"\n",
    "3.6.2 신경망의 추론처리 내용\n",
    "for i in range(len(x)):\n",
    "    y = predict(network, x[i])\n",
    "    p = np.argmax(y) # 확률이 가장 높은 원소의 인덱스 얻는다.\n",
    "    if p == t[i]: # 추론값(입력값들 중 가장 정답일거라 제시한 값)과 정답값이 같을 시에\n",
    "        accuracy_cnt += 1 # 정확성 카운트 +1\n",
    "\"\"\"\n",
    "        \n",
    "print(\"정확도 :\", float(accuracy_cnt)/len(x))\n",
    "\n",
    "\"\"\"\n",
    "3.6.1 mnist 데이터셋 내용\n",
    "\n",
    "img = x_train[0]\n",
    "label = t_train[0]\n",
    "print(label)  # 5\n",
    "\n",
    "print(img.shape)  # (784,)\n",
    "img = img.reshape(28, 28)  # 형상을 원래 이미지의 크기로 변형 (= 원하는 형상을 인수로 지정하면 넘파이 배열의 형상을 바꿀 수 있다.)\n",
    "print(img.shape)  # (28, 28)\n",
    "\n",
    "img_show(img) # 이미지 출력\n",
    "\"\"\""
   ]
  },
  {
   "cell_type": "code",
   "execution_count": null,
   "metadata": {},
   "outputs": [],
   "source": []
  }
 ],
 "metadata": {
  "kernelspec": {
   "display_name": "Python 3",
   "language": "python",
   "name": "python3"
  },
  "language_info": {
   "codemirror_mode": {
    "name": "ipython",
    "version": 3
   },
   "file_extension": ".py",
   "mimetype": "text/x-python",
   "name": "python",
   "nbconvert_exporter": "python",
   "pygments_lexer": "ipython3",
   "version": "3.7.7"
  }
 },
 "nbformat": 4,
 "nbformat_minor": 4
}
