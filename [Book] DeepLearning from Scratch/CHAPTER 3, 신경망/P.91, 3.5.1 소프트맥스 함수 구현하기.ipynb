{
 "cells": [
  {
   "cell_type": "code",
   "execution_count": null,
   "metadata": {},
   "outputs": [],
   "source": [
    "import numpy as np\n",
    "\n",
    "\"\"\"\n",
    "소프트맥스 함수\n",
    "\n",
    "모든 입력신호를 받는다. 출력은 0에서 1.0사이 실수이며 소프트맥스 함수의 출력값 총합은 1 이다. 즉 확률로써 해석할 수 있다.\n",
    "입력값들을 소프트맥스 함수에 다 집어넣고 출력값으로 출력을 해도 각 원소(인덱스별)의 대소 관계는 변하지 않는다.\n",
    "\"\"\"\n",
    "def softmax(a) :\n",
    "    c = np.max(a) # 오버플로 방지용, 소프트맥스 함수의 지수 함수를 계산할 때 어떤 정수를 더해도 결과는 안 바뀌니 입력 신호 중 최댓값을 이용\n",
    "    exp_a = np.exp(a-c)\n",
    "    sum_exp_a = np.sum(exp_a)\n",
    "    y = exp_a / sum_exp_a\n",
    "    \n",
    "    return y"
   ]
  }
 ],
 "metadata": {
  "kernelspec": {
   "display_name": "Python 3",
   "language": "python",
   "name": "python3"
  },
  "language_info": {
   "codemirror_mode": {
    "name": "ipython",
    "version": 3
   },
   "file_extension": ".py",
   "mimetype": "text/x-python",
   "name": "python",
   "nbconvert_exporter": "python",
   "pygments_lexer": "ipython3",
   "version": "3.7.7"
  }
 },
 "nbformat": 4,
 "nbformat_minor": 4
}
