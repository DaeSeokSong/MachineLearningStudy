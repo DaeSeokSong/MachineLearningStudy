{
 "cells": [
  {
   "cell_type": "code",
   "execution_count": 2,
   "metadata": {},
   "outputs": [
    {
     "name": "stdout",
     "output_type": "stream",
     "text": [
      "x.shape : (2,)\n",
      "w1.shape : (2, 3)\n",
      "b1.shape : (3,)\n",
      "a1 : [0.3 0.7 1.1]\n",
      "z1 : [0.57444252 0.66818777 0.75026011]\n",
      "z1.shape : (3,)\n",
      "w2.shape : (3, 2)\n",
      "b2.shape : (2,)\n",
      "[0.31682708 0.69627909]\n"
     ]
    }
   ],
   "source": [
    "import numpy as np\n",
    "\n",
    "# 시그모이드 함수 ( 1 / (1+exp(-x)) )\n",
    "def sigmoid(x) :\n",
    "    return 1 / (1 + np.exp(-x))\n",
    "\n",
    "# 항등함수\n",
    "def identity_function(x) :\n",
    "    return x\n",
    "\n",
    "# 1층\n",
    "x = np.array([1.0, 0.5]) # 입력값\n",
    "w1 = np.array([[0.1, 0.3, 0.5], [0.2, 0.4, 0.6]])\n",
    "b1 = np.array([0.1, 0.2, 0.3])\n",
    "\n",
    "print(\"x.shape :\", x.shape)\n",
    "print(\"w1.shape :\", w1.shape)\n",
    "print(\"b1.shape :\", b1.shape)\n",
    "\n",
    "a1 = np.dot(x, w1)+b1\n",
    "z1 = sigmoid(a1)\n",
    "\n",
    "print(\"a1 :\", a1)\n",
    "print(\"z1 :\", z1)\n",
    "\n",
    "# 2층\n",
    "w2 = np.array([[0.1, 0.4], [0.2, 0.5], [0.3, 0.6]])\n",
    "b2 = np.array([0.1, 0.2])\n",
    "\n",
    "print(\"z1.shape :\", z1.shape)\n",
    "print(\"w2.shape :\", w2.shape)\n",
    "print(\"b2.shape :\", b2.shape)\n",
    "\n",
    "a2 = np.dot(z1, w2)+b2\n",
    "z2 = sigmoid(a2)\n",
    "\n",
    "# 출력층(3층)\n",
    "w3 = np.array([[0.1, 0.3], [0.2, 0.4]])\n",
    "b3 = np.array([0.1, 0.2])\n",
    "\n",
    "a3 = np.dot(z2, w3)+b3\n",
    "y = identity_function(a3) # 출력층의 활성화 함수를 지정하여 출력을 가져오는 부분 (여기선 항등항수가 사용됬지만 다른 걸로 사용 가능)\n",
    "\n",
    "print(y)"
   ]
  },
  {
   "cell_type": "code",
   "execution_count": null,
   "metadata": {},
   "outputs": [],
   "source": []
  }
 ],
 "metadata": {
  "kernelspec": {
   "display_name": "Python 3",
   "language": "python",
   "name": "python3"
  },
  "language_info": {
   "codemirror_mode": {
    "name": "ipython",
    "version": 3
   },
   "file_extension": ".py",
   "mimetype": "text/x-python",
   "name": "python",
   "nbconvert_exporter": "python",
   "pygments_lexer": "ipython3",
   "version": "3.7.7"
  }
 },
 "nbformat": 4,
 "nbformat_minor": 4
}
