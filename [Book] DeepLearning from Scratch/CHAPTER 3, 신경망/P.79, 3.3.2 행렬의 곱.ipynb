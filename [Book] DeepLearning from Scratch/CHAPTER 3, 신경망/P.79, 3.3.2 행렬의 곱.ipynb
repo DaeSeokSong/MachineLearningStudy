{
 "cells": [
  {
   "cell_type": "code",
   "execution_count": 6,
   "metadata": {},
   "outputs": [
    {
     "name": "stdout",
     "output_type": "stream",
     "text": [
      "(2, 2)\n",
      "(2, 2)\n",
      "[[19 22]\n",
      " [43 50]]\n",
      "ㅡㅡㅡㅡㅡㅡㅡㅡㅡㅡㅡㅡㅡㅡㅡㅡㅡㅡㅡㅡㅡㅡㅡㅡㅡ\n",
      "(2, 3)\n",
      "(3, 2)\n",
      "[[22 28]\n",
      " [49 64]]\n",
      "[23 53 83]\n"
     ]
    },
    {
     "ename": "ValueError",
     "evalue": "shapes (2,3) and (2,2) not aligned: 3 (dim 1) != 2 (dim 0)",
     "output_type": "error",
     "traceback": [
      "\u001b[1;31m---------------------------------------------------------------------------\u001b[0m",
      "\u001b[1;31mValueError\u001b[0m                                Traceback (most recent call last)",
      "\u001b[1;32m<ipython-input-6-552604a47d59>\u001b[0m in \u001b[0;36m<module>\u001b[1;34m\u001b[0m\n\u001b[0;32m     26\u001b[0m \u001b[1;33m\u001b[0m\u001b[0m\n\u001b[0;32m     27\u001b[0m \u001b[1;31m# A의 열의 원소 수와 C의 행의 원소 수가 달라서 계산 시에 ValueError 발생\u001b[0m\u001b[1;33m\u001b[0m\u001b[1;33m\u001b[0m\u001b[1;33m\u001b[0m\u001b[0m\n\u001b[1;32m---> 28\u001b[1;33m \u001b[0mprint\u001b[0m\u001b[1;33m(\u001b[0m\u001b[0mnp\u001b[0m\u001b[1;33m.\u001b[0m\u001b[0mdot\u001b[0m\u001b[1;33m(\u001b[0m\u001b[0mA\u001b[0m\u001b[1;33m,\u001b[0m\u001b[0mC\u001b[0m\u001b[1;33m)\u001b[0m\u001b[1;33m)\u001b[0m\u001b[1;33m\u001b[0m\u001b[1;33m\u001b[0m\u001b[0m\n\u001b[0m",
      "\u001b[1;32m<__array_function__ internals>\u001b[0m in \u001b[0;36mdot\u001b[1;34m(*args, **kwargs)\u001b[0m\n",
      "\u001b[1;31mValueError\u001b[0m: shapes (2,3) and (2,2) not aligned: 3 (dim 1) != 2 (dim 0)"
     ]
    }
   ],
   "source": [
    "import numpy as np\n",
    "\n",
    "a = np.array([[1,2], [3,4]])\n",
    "print(a.shape)\n",
    "\n",
    "b = np.array([[5,6], [7,8]])\n",
    "print(b.shape)\n",
    "\n",
    "print(np.dot(a,b)) # np.dot / 두 행렬의 곱을 계산한다. 입력이 1차원 배열이면 벡터를, 2차원 배열(행렬)이면 행렬 곱을 계산한다.\n",
    "\n",
    "print(\"ㅡㅡㅡㅡㅡㅡㅡㅡㅡㅡㅡㅡㅡㅡㅡㅡㅡㅡㅡㅡㅡㅡㅡㅡㅡ\")\n",
    "\n",
    "A = np.array([[1,2,3], [4,5,6]])\n",
    "print(A.shape)\n",
    "\n",
    "B = np.array([[1,2], [3,4], [5,6]])\n",
    "print(B.shape)\n",
    "\n",
    "# 행렬끼리의 곱셈은 첫번째 행렬(A)의 열 수와 두번째 행렬(B)의 행 수가 같아야 계산할 수 있다. 곱한 결과는 A의 열 수(B의 행 수) 차원의 배열이 된다.\n",
    "print(np.dot(A,B))\n",
    "\n",
    "# 위 조건이 성립하면 1차원 배열도 행렬 곱 계산이 가능하다.\n",
    "D = np.array([7,8])\n",
    "print(np.dot(B,D))\n",
    "\n",
    "C = np.array([[1,2], [3,4]])\n",
    "\n",
    "# A의 열의 원소 수와 C의 행의 원소 수가 달라서 계산 시에 ValueError 발생\n",
    "print(np.dot(A,C))"
   ]
  },
  {
   "cell_type": "code",
   "execution_count": null,
   "metadata": {},
   "outputs": [],
   "source": []
  }
 ],
 "metadata": {
  "kernelspec": {
   "display_name": "Python 3",
   "language": "python",
   "name": "python3"
  },
  "language_info": {
   "codemirror_mode": {
    "name": "ipython",
    "version": 3
   },
   "file_extension": ".py",
   "mimetype": "text/x-python",
   "name": "python",
   "nbconvert_exporter": "python",
   "pygments_lexer": "ipython3",
   "version": "3.7.7"
  }
 },
 "nbformat": 4,
 "nbformat_minor": 4
}
