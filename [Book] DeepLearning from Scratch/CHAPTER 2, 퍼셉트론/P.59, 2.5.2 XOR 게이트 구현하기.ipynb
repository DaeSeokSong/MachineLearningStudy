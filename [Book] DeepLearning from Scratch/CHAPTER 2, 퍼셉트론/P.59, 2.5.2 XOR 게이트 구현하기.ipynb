{
 "cells": [
  {
   "cell_type": "code",
   "execution_count": null,
   "metadata": {},
   "outputs": [],
   "source": [
    "# 퍼셉트론 = 0보다 작거나 같으면 0(비활성화), 0보다 크면 1(활성화) 하는 알고리즘\n",
    "# AND 게이트, 두 입력이 모두 1 일 때만 1 출력\n",
    "def AND(x1, x2) :\n",
    "    x = np.array([x1, x2])\n",
    "    w = np.array([0.5, 0.5])\n",
    "    b = -0.7\n",
    "    tmp = np.sum(w*x) + b\n",
    "    \n",
    "    if tmp <= 0 :\n",
    "        return 0\n",
    "    else :\n",
    "        return 1\n",
    "    \n",
    "# NAND 게이트 (Not AND) == 가중치, 편향이 AND 게이트의 가중치와 편향에 \"-1\" 곱한 값\n",
    "def NAND(x1, x2) :\n",
    "    x = np.array([x1, x2])\n",
    "    w = np.array([-0.5, -0.5])\n",
    "    b = 0.7\n",
    "    tmp = np.sum(w*x) + b\n",
    "    if tmp <= 0 :\n",
    "        return 0\n",
    "    else :\n",
    "        return 1\n",
    "    \n",
    "# OR 게이트, 입력 중 하나라도 1 이상일 경우 1 출력\n",
    "def OR(x1, x2) :\n",
    "    x = np.array([x1, x2])\n",
    "    w = np.array([0.5, 0.5])\n",
    "    b = -0.2\n",
    "    tmp = np.sum(w*x) + b\n",
    "    \n",
    "    if tmp <= 0 :\n",
    "        return 0\n",
    "    else : \n",
    "        return 1\n",
    "    \n",
    "\"\"\" AND, NAND, OR 게이트는 모두 같은 구조(단층, 선형)의 퍼셉트론이고 차이는 가중치, 편향의 값 뿐이다. \"\"\"\n",
    "\n",
    "# XOR 게이트, 다층 퍼셉트론(비선형)\n",
    "def XOR(x1, x2) :\n",
    "    s1 = NAND(x1, x2)\n",
    "    s2 = OR(x1, x2)\n",
    "    y = AND(s1, s2)\n",
    "    return y"
   ]
  }
 ],
 "metadata": {
  "kernelspec": {
   "display_name": "Python 3",
   "language": "python",
   "name": "python3"
  },
  "language_info": {
   "codemirror_mode": {
    "name": "ipython",
    "version": 3
   },
   "file_extension": ".py",
   "mimetype": "text/x-python",
   "name": "python",
   "nbconvert_exporter": "python",
   "pygments_lexer": "ipython3",
   "version": "3.7.7"
  }
 },
 "nbformat": 4,
 "nbformat_minor": 4
}
