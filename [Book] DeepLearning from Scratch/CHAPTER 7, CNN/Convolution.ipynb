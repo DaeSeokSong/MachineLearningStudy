{
 "cells": [
  {
   "cell_type": "code",
   "execution_count": null,
   "metadata": {},
   "outputs": [],
   "source": [
    "import sys, os\n",
    "sys.path.append(os.pardir)\n",
    "from common.util import im2col\n",
    "\n",
    "class Convolution:\n",
    "    def __init__(self, W, b, stride=1, pad=0):\n",
    "        self.W = W\n",
    "        self.b = b\n",
    "        self.stride = stride\n",
    "        self.pad = pad\n",
    "        \n",
    "    def forward(self, x):\n",
    "        FN, C, FH, FW = self.W.shape\n",
    "        N, C, H, W = x.shape\n",
    "        out_h = int(1 + (H + 2*self.pad - FH) / self.stride)\n",
    "        out_w = int(1 + (W + 2*self.pad - FW) / self.stride)\n",
    "        \n",
    "        col = im2col(x, FH, FW, self.stride, self.pad) # 입력 데이터 전개\n",
    "        col_W = self.W.reshape(FN, -1).T # 필터 전개, reshape에 -1 지정하면 다차원 배열의 원소 수가 변환 후에도 똑같이 유지 되도록 묶는다.\n",
    "        out = np.dot(col, col_W) + self.b\n",
    "        \n",
    "        # transpose 함수 = 다차원 배열의 축 순서를 바꿔주는 함수, 인덱스를 지정하여 원하는 인덱스 순으로 다시 바꾸는 것\n",
    "        out = out.reshape(N, out_h, out_w, -1).transpose(0, 3, 1, 2) # 출력 데이터를 적절한 형상으로 바꾼다.\n",
    "        \n",
    "        return out\n",
    "    \n",
    "    # 합성곱 계층의 역전파에서는 im2col을 역으로 처리해야한다."
   ]
  }
 ],
 "metadata": {
  "kernelspec": {
   "display_name": "Python 3",
   "language": "python",
   "name": "python3"
  },
  "language_info": {
   "codemirror_mode": {
    "name": "ipython",
    "version": 3
   },
   "file_extension": ".py",
   "mimetype": "text/x-python",
   "name": "python",
   "nbconvert_exporter": "python",
   "pygments_lexer": "ipython3",
   "version": "3.7.7"
  }
 },
 "nbformat": 4,
 "nbformat_minor": 4
}
