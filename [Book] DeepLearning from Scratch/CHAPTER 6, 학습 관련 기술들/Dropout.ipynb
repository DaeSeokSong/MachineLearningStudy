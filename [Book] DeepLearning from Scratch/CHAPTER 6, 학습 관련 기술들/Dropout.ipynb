{
 "cells": [
  {
   "cell_type": "code",
   "execution_count": null,
   "metadata": {},
   "outputs": [],
   "source": [
    "\"\"\"\n",
    "오버피팅은 주로 매개변수가 많고 표현력이 높은 모델이나 훈련 데이터가 적은 모델에서 일어난다.\n",
    "오버피팅 억제용으로 많이 이용해온 방법 중 \"가중치 감소(weight decay)\"라는 것이 있다.\n",
    "이는 학습 과정에서 큰 가중치에 대해서는 그에 상응하는 큰 패널티를 부과하여 오버피팅을 억제하는 방법이다.\n",
    "원래 오버피팅은 가중치 매개변수의 값이 커서 발생하는 경우가 많기 때문이다.\n",
    "이 방식은 손실 함수에 가중치의 L2 노름을 더하는 것이다.\n",
    "\n",
    "* 오버피팅 : 신경망이 훈련 데이터에만 지나치게 적응되어 그 외의 데이터에는 제대로 대응하지 못하는 상태\n",
    "* L2 노름 : 각 원소의 제곱들을 더한 것에 루트를 씌운 것이다.\n",
    "\n",
    "가중치 감소는 간단하게 구현할 수 있고 어느정도 지나친 학습을 억제할 수 있지만\n",
    "신경망 모델이 복잡해지면 가중치 감소만으로는 대응하기 어렵다.\n",
    "이럴 때 흔히 사용하는 기법이 \"드롭아웃(Dropout)\"기법이다.\n",
    "\n",
    "드롭아웃은 뉴런을 임의로 삭제하면서 학습하는 방법이다. 훈련 때 데이터를 흘릴 때 마다 은닉층의 뉴런을 무작위로 골라 삭제한다.\n",
    "시험 때는 모든 뉴런에 신호를 전달한다. 단 시험 때는 각 뉴런의 출력에 훈련 때 삭제 안 한 비율을 곱하여 출력한다.\n",
    "드롭아웃을 이용하면 표현력을 높이면서도 오버피팅을 억제할 수 있다.\n",
    "드롭아웃은 앙상블 학습과 밀접하다. 앙상블 학습은 기계학습에서 애용하는 학습기법이다.\n",
    "앙상블 학습이란 개별적으로 학습시킨 여러 모델의 출력을 평균 내어 추론하는 방식으로 비슷 혹은 같은 구조의 네트워크를 n개 준비하여\n",
    "따로따로 학습시키고 시험 때는 n개의 출력을 평균내어 답하는 것을 말한다.\n",
    "\"\"\"\n",
    "\n",
    "class Dropout:\n",
    "    def __init__(self, dropout_ratio=0.5):\n",
    "        self.dropout_ratio = dropout_ratio\n",
    "        self.mask = None # 삭제할 뉴런은 False로 표시하는 변수, x와 같은 형상의 배열을 무작위로 생성 후 dropout_ratio보다 큰 원소만 True\n",
    "        \n",
    "    def forward(self, x, train_flg=True):\n",
    "        if train_flg:\n",
    "            self.mask = np.random.rand(*x.shape) > self.dropout_ratio\n",
    "            return x * self.mask\n",
    "        else:\n",
    "            return x * (1.0 - self.dropout_ratio)\n",
    "        \n",
    "    def backward(self, dout):\n",
    "        return dout * self.mask"
   ]
  }
 ],
 "metadata": {
  "kernelspec": {
   "display_name": "Python 3",
   "language": "python",
   "name": "python3"
  },
  "language_info": {
   "codemirror_mode": {
    "name": "ipython",
    "version": 3
   },
   "file_extension": ".py",
   "mimetype": "text/x-python",
   "name": "python",
   "nbconvert_exporter": "python",
   "pygments_lexer": "ipython3",
   "version": "3.7.7"
  }
 },
 "nbformat": 4,
 "nbformat_minor": 4
}
