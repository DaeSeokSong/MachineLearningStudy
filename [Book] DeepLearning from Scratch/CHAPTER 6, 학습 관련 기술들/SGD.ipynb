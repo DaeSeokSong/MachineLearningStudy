{
 "cells": [
  {
   "cell_type": "code",
   "execution_count": null,
   "metadata": {},
   "outputs": [],
   "source": [
    "# 확률적 경사 하강법(SGD), 매개변수(가중치, 편향)의 기울기를 구해서 기울기의 방향으로 매개변수 값 갱신을 반복하여 최적의 값을 찾는 것\n",
    "class SGD:\n",
    "    def __init__(self, lr=0.01): # lr(Learning Rate, 학습률), 인스턴스 변수로 항상 동일하게 유지해야함\n",
    "        self.lr = lr\n",
    "        \n",
    "    def update(self, params, grads):\n",
    "        for key in params.keys():\n",
    "            params[key] -= self.lr * grads[key]\n",
    "            \n",
    "# 주의사항 : 빙등방성(anisotropy) 함수(방향에 따라 성질(기울기 등)이 달라지는 함수)에서는 탐색 경로가 비효율적이다.\n",
    "# SGD의 단점을 개선해주는 [ 모멘텀, AdaGrad, Adam ]이라는 세 방법이 있다."
   ]
  }
 ],
 "metadata": {
  "kernelspec": {
   "display_name": "Python 3",
   "language": "python",
   "name": "python3"
  },
  "language_info": {
   "codemirror_mode": {
    "name": "ipython",
    "version": 3
   },
   "file_extension": ".py",
   "mimetype": "text/x-python",
   "name": "python",
   "nbconvert_exporter": "python",
   "pygments_lexer": "ipython3",
   "version": "3.7.7"
  }
 },
 "nbformat": 4,
 "nbformat_minor": 4
}
