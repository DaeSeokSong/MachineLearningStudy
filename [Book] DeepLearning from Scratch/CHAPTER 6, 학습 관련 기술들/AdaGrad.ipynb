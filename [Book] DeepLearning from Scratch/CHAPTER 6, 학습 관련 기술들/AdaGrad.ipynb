{
 "cells": [
  {
   "cell_type": "code",
   "execution_count": null,
   "metadata": {},
   "outputs": [],
   "source": [
    "# AdaGrad(학습률 감소 기법), 학습을 진행하면서 학습률을 점차 줄여가는 방법으로 '각각의' 매개변수에 적응적으로 학습률을 조정하며 학습한다.\n",
    "class AdaGrad:\n",
    "    def __init__(self, lr=0.01):\n",
    "        self.lr = lr\n",
    "        self.h = None\n",
    "        \n",
    "    def update(self, params, grads):\n",
    "        if self.h is None:\n",
    "            self.h = {}\n",
    "            for key, val in params.items():\n",
    "                self.h[key] = np.zeros_like(val)\n",
    "                \n",
    "        for key in params.keys():\n",
    "            self.h[key] += grads[key] * grads[key]\n",
    "            params[key] -= self.lr * grads[key] / (np.sqrt(self.h[key]) + 1e-7)\n",
    "            # self.h[key]에 0이 있다해도 에러가 발생하는 걸 방지하기 위해 아주 작은 값인 1e-7를 더해줬다.\n",
    "            \n",
    "\"\"\"\n",
    "주의사항 :\n",
    "AdaGrad는 과거의 기울기를 제곱하여 계속 더해간다. 즉 학습을 진행할 수록 갱신 강도가 약해져서(학습률을 점차 줄여서) 무한히 계속 학습한다면\n",
    "순간 갱신량이 0이 되어 전혀 갱신되지 않게 된다. 이 문제를 개선한 기법으로 RMSProp가 있다.\n",
    "\"\"\""
   ]
  }
 ],
 "metadata": {
  "kernelspec": {
   "display_name": "Python 3",
   "language": "python",
   "name": "python3"
  },
  "language_info": {
   "codemirror_mode": {
    "name": "ipython",
    "version": 3
   },
   "file_extension": ".py",
   "mimetype": "text/x-python",
   "name": "python",
   "nbconvert_exporter": "python",
   "pygments_lexer": "ipython3",
   "version": "3.7.7"
  }
 },
 "nbformat": 4,
 "nbformat_minor": 4
}
